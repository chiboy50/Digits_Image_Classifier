{
 "cells": [
  {
   "cell_type": "markdown",
   "id": "0a3052c8-cf8b-4f1c-9127-dcf26466639b",
   "metadata": {},
   "source": [
    "# **Building a handwritten-digits classifier with several ML algorithms**\n",
    "`categories: classification tasks, computer vision, neural networks, logistics regression, kNN`"
   ]
  },
  {
   "cell_type": "markdown",
   "id": "06363633-55c0-45ad-9640-c7ace4a80880",
   "metadata": {
    "tags": []
   },
   "source": [
    "## Introduction"
   ]
  },
  {
   "cell_type": "markdown",
   "id": "bec9fec1-7efb-4464-904a-1337e80828e3",
   "metadata": {},
   "source": [
    "In this project we will analyse a dataset of images representing handwritten digits from 0 to 9, and try several classification algorithms in order to correctly classify them.<br/> \n",
    "Given an image, we want our models to be able to say, e.g., \"it's a 1\" or \"it's a 8\".<br/>\n",
    "The following algorithms will be used:\n",
    "- **logistic regression**\n",
    "- **k-nearest neighbors (kNN)**\n",
    "- **multilayer perceptron (deep neural network)**\n",
    "\n",
    "This project is the first attempt at getting our hands dirty with deep learning and neural networks in general.<br/>\n",
    "Very briefly, a neural network (nn) is, mathematically, a function composition:\n",
    "\n",
    "$$y = f_{out}(f_{l}(f_{l-1}(...f_{in}(\\textbf{x}))))$$\n",
    "\n",
    "Where $\\textbf{x}$ is the input feature vector, $y$ is the output (can be a number in regression or a probability estimate/class in classification).<br/>\n",
    "The input and output layer of neurons are represented by $f_{out}$ and $f_{in}$, respectively; the remaining functions represent the inner neuron layers.\n",
    "\n",
    "In particular, we're interested in the **multilayer perceptron**, a kind of fully-connected feed-forward nn which can be represented as a directed acyclic graph (DAG), like the image below:\n",
    "<br/>\n",
    "<br/>"
   ]
  },
  {
   "cell_type": "markdown",
   "id": "01751b2f-b948-4bf7-b9a5-47ea291075d8",
   "metadata": {},
   "source": [
    "<center>!<img src=\"imgs/mlp.png\" width=550 height=400/><center/>\n",
    "\n",
    "    Fig.: a multilayer perceptron with one four-neurons hidden layer, represented as a DAG\n",
    "    \n",
    "Image source: [here](https://becominghuman.ai/multi-layer-perceptron-mlp-models-on-real-world-banking-data-f6dd3d7e998f)."
   ]
  },
  {
   "cell_type": "markdown",
   "id": "76d86639-be33-4281-b4dc-61dcb8f37f5b",
   "metadata": {},
   "source": [
    "Another kind of feed-forward nn's are convolutional neural networks, which reach state-of-the-art performances on images classification.<br/> \n",
    "Other neural networks architectures are however possible, which are not DAGs; an example are recurrent neural networks."
   ]
  },
  {
   "cell_type": "markdown",
   "id": "570b54d3-6903-40c1-8fa3-8a02e6f80b10",
   "metadata": {
    "jp-MarkdownHeadingCollapsed": true,
    "tags": []
   },
   "source": [
    "## Project's goals\n",
    "\n",
    "The essential goal is to practice with neural networks; in particular playing with their hyperparameters to start having an idea of how hard is to tune them.<br/>\n",
    "We also want to compare nn's performances with simpler (at least in terms of explainability) algorithms: are neural networks really worth the trouble for this particular dataset?\n",
    "\n",
    "### Strategy\n",
    "\n",
    "Because we're going to use a small dataset (1797 instances), we're going to split it into a train and a test set, perform **cross-validation** on the train set and use the test just to assess the best model's performance (see par. 5.7.1 of *The hundred-page machine learning book*, for example).<br/>\n",
    "As a metric we choose **accuracy**, because all digits are considered equally important so we're not going to use more specific metrics like AUC, precision or recall.\n",
    "\n",
    "*Note that \"test set\" is referred to two different sets in the context of cross-validation (equivalent to validation set) and in the context of model assessment.*\n",
    "\n",
    "### Summary of results\n",
    "Logistic regression performs acceptably well on unseen data (94.8%).<br/>\n",
    "kNN and neural networks yield the best accuracy, which is virtually the same for both (97.8%).<br/>\n",
    "One hidden layer is enough for the multilayer perceptron to reach its best performance."
   ]
  },
  {
   "cell_type": "markdown",
   "id": "2caae459-ccfc-48eb-bd93-515d2124a99f",
   "metadata": {
    "tags": []
   },
   "source": [
    "## Modules and libraries"
   ]
  },
  {
   "cell_type": "code",
   "execution_count": 105,
   "id": "4a89d037-5469-4cdb-bd4b-51e473f2b57d",
   "metadata": {},
   "outputs": [],
   "source": [
    "import matplotlib.pyplot as plt\n",
    "import numpy as np\n",
    "import pandas as pd\n",
    "\n",
    "# dataset\n",
    "from sklearn.datasets import load_digits\n",
    "\n",
    "# ML functionalities\n",
    "from sklearn.linear_model import LogisticRegression\n",
    "from sklearn.neighbors import KNeighborsClassifier\n",
    "from sklearn.neural_network import MLPClassifier\n",
    "from sklearn.model_selection import cross_validate  #(*)\n",
    "from sklearn.metrics import accuracy_score\n",
    "\n",
    "# random state for reproducibility\n",
    "rs = 1\n",
    "\n",
    "#(*) note: cross_validate is much more flexible than cross_val_score"
   ]
  },
  {
   "cell_type": "markdown",
   "id": "a70091cf-8dc5-4406-90c2-3e5e7cbfd59d",
   "metadata": {
    "tags": []
   },
   "source": [
    "## Dataset loading and exploration"
   ]
  },
  {
   "cell_type": "markdown",
   "id": "f8535f56-ab92-47ff-8b95-a4cb315fbfcc",
   "metadata": {},
   "source": [
    "Our dataset is a collection of 1797 grayscale images, each representing a handwritten digit. The resolution of each image is 8 by 8, i.e. 64 pixels.<br/>\n",
    "More information on the dataset can be found at [the UCI repository](https://archive.ics.uci.edu/ml/datasets/Optical+Recognition+of+Handwritten+Digits). We will access the data trough the `sklearn.datasets.load_digits` function.\n",
    "\n",
    "Let's load the data in a dataframe and take a look at them:"
   ]
  },
  {
   "cell_type": "code",
   "execution_count": 2,
   "id": "1dbdd521-1c28-404d-b569-c65cd4bd27e1",
   "metadata": {},
   "outputs": [],
   "source": [
    "data = load_digits(as_frame=True)\n",
    "\n",
    "imgs = data.data  # images\n",
    "target = data.target  # target values (i.e. digit label: 0, 1, 2,...)"
   ]
  },
  {
   "cell_type": "code",
   "execution_count": 3,
   "id": "4d224c5d-8f2a-425f-b10e-2b62e9790f6a",
   "metadata": {},
   "outputs": [
    {
     "name": "stdout",
     "output_type": "stream",
     "text": [
      "(n_imgs, n_features) = (1797, 64) \n",
      "\n"
     ]
    },
    {
     "data": {
      "text/html": [
       "<div>\n",
       "<style scoped>\n",
       "    .dataframe tbody tr th:only-of-type {\n",
       "        vertical-align: middle;\n",
       "    }\n",
       "\n",
       "    .dataframe tbody tr th {\n",
       "        vertical-align: top;\n",
       "    }\n",
       "\n",
       "    .dataframe thead th {\n",
       "        text-align: right;\n",
       "    }\n",
       "</style>\n",
       "<table border=\"1\" class=\"dataframe\">\n",
       "  <thead>\n",
       "    <tr style=\"text-align: right;\">\n",
       "      <th></th>\n",
       "      <th>pixel_0_0</th>\n",
       "      <th>pixel_0_1</th>\n",
       "      <th>pixel_0_2</th>\n",
       "      <th>pixel_0_3</th>\n",
       "      <th>pixel_0_4</th>\n",
       "      <th>pixel_0_5</th>\n",
       "      <th>pixel_0_6</th>\n",
       "      <th>pixel_0_7</th>\n",
       "      <th>pixel_1_0</th>\n",
       "      <th>pixel_1_1</th>\n",
       "      <th>...</th>\n",
       "      <th>pixel_6_6</th>\n",
       "      <th>pixel_6_7</th>\n",
       "      <th>pixel_7_0</th>\n",
       "      <th>pixel_7_1</th>\n",
       "      <th>pixel_7_2</th>\n",
       "      <th>pixel_7_3</th>\n",
       "      <th>pixel_7_4</th>\n",
       "      <th>pixel_7_5</th>\n",
       "      <th>pixel_7_6</th>\n",
       "      <th>pixel_7_7</th>\n",
       "    </tr>\n",
       "  </thead>\n",
       "  <tbody>\n",
       "    <tr>\n",
       "      <th>0</th>\n",
       "      <td>0.0</td>\n",
       "      <td>0.0</td>\n",
       "      <td>5.0</td>\n",
       "      <td>13.0</td>\n",
       "      <td>9.0</td>\n",
       "      <td>1.0</td>\n",
       "      <td>0.0</td>\n",
       "      <td>0.0</td>\n",
       "      <td>0.0</td>\n",
       "      <td>0.0</td>\n",
       "      <td>...</td>\n",
       "      <td>0.0</td>\n",
       "      <td>0.0</td>\n",
       "      <td>0.0</td>\n",
       "      <td>0.0</td>\n",
       "      <td>6.0</td>\n",
       "      <td>13.0</td>\n",
       "      <td>10.0</td>\n",
       "      <td>0.0</td>\n",
       "      <td>0.0</td>\n",
       "      <td>0.0</td>\n",
       "    </tr>\n",
       "    <tr>\n",
       "      <th>1</th>\n",
       "      <td>0.0</td>\n",
       "      <td>0.0</td>\n",
       "      <td>0.0</td>\n",
       "      <td>12.0</td>\n",
       "      <td>13.0</td>\n",
       "      <td>5.0</td>\n",
       "      <td>0.0</td>\n",
       "      <td>0.0</td>\n",
       "      <td>0.0</td>\n",
       "      <td>0.0</td>\n",
       "      <td>...</td>\n",
       "      <td>0.0</td>\n",
       "      <td>0.0</td>\n",
       "      <td>0.0</td>\n",
       "      <td>0.0</td>\n",
       "      <td>0.0</td>\n",
       "      <td>11.0</td>\n",
       "      <td>16.0</td>\n",
       "      <td>10.0</td>\n",
       "      <td>0.0</td>\n",
       "      <td>0.0</td>\n",
       "    </tr>\n",
       "    <tr>\n",
       "      <th>2</th>\n",
       "      <td>0.0</td>\n",
       "      <td>0.0</td>\n",
       "      <td>0.0</td>\n",
       "      <td>4.0</td>\n",
       "      <td>15.0</td>\n",
       "      <td>12.0</td>\n",
       "      <td>0.0</td>\n",
       "      <td>0.0</td>\n",
       "      <td>0.0</td>\n",
       "      <td>0.0</td>\n",
       "      <td>...</td>\n",
       "      <td>5.0</td>\n",
       "      <td>0.0</td>\n",
       "      <td>0.0</td>\n",
       "      <td>0.0</td>\n",
       "      <td>0.0</td>\n",
       "      <td>3.0</td>\n",
       "      <td>11.0</td>\n",
       "      <td>16.0</td>\n",
       "      <td>9.0</td>\n",
       "      <td>0.0</td>\n",
       "    </tr>\n",
       "    <tr>\n",
       "      <th>3</th>\n",
       "      <td>0.0</td>\n",
       "      <td>0.0</td>\n",
       "      <td>7.0</td>\n",
       "      <td>15.0</td>\n",
       "      <td>13.0</td>\n",
       "      <td>1.0</td>\n",
       "      <td>0.0</td>\n",
       "      <td>0.0</td>\n",
       "      <td>0.0</td>\n",
       "      <td>8.0</td>\n",
       "      <td>...</td>\n",
       "      <td>9.0</td>\n",
       "      <td>0.0</td>\n",
       "      <td>0.0</td>\n",
       "      <td>0.0</td>\n",
       "      <td>7.0</td>\n",
       "      <td>13.0</td>\n",
       "      <td>13.0</td>\n",
       "      <td>9.0</td>\n",
       "      <td>0.0</td>\n",
       "      <td>0.0</td>\n",
       "    </tr>\n",
       "    <tr>\n",
       "      <th>4</th>\n",
       "      <td>0.0</td>\n",
       "      <td>0.0</td>\n",
       "      <td>0.0</td>\n",
       "      <td>1.0</td>\n",
       "      <td>11.0</td>\n",
       "      <td>0.0</td>\n",
       "      <td>0.0</td>\n",
       "      <td>0.0</td>\n",
       "      <td>0.0</td>\n",
       "      <td>0.0</td>\n",
       "      <td>...</td>\n",
       "      <td>0.0</td>\n",
       "      <td>0.0</td>\n",
       "      <td>0.0</td>\n",
       "      <td>0.0</td>\n",
       "      <td>0.0</td>\n",
       "      <td>2.0</td>\n",
       "      <td>16.0</td>\n",
       "      <td>4.0</td>\n",
       "      <td>0.0</td>\n",
       "      <td>0.0</td>\n",
       "    </tr>\n",
       "  </tbody>\n",
       "</table>\n",
       "<p>5 rows × 64 columns</p>\n",
       "</div>"
      ],
      "text/plain": [
       "   pixel_0_0  pixel_0_1  pixel_0_2  pixel_0_3  pixel_0_4  pixel_0_5  \\\n",
       "0        0.0        0.0        5.0       13.0        9.0        1.0   \n",
       "1        0.0        0.0        0.0       12.0       13.0        5.0   \n",
       "2        0.0        0.0        0.0        4.0       15.0       12.0   \n",
       "3        0.0        0.0        7.0       15.0       13.0        1.0   \n",
       "4        0.0        0.0        0.0        1.0       11.0        0.0   \n",
       "\n",
       "   pixel_0_6  pixel_0_7  pixel_1_0  pixel_1_1  ...  pixel_6_6  pixel_6_7  \\\n",
       "0        0.0        0.0        0.0        0.0  ...        0.0        0.0   \n",
       "1        0.0        0.0        0.0        0.0  ...        0.0        0.0   \n",
       "2        0.0        0.0        0.0        0.0  ...        5.0        0.0   \n",
       "3        0.0        0.0        0.0        8.0  ...        9.0        0.0   \n",
       "4        0.0        0.0        0.0        0.0  ...        0.0        0.0   \n",
       "\n",
       "   pixel_7_0  pixel_7_1  pixel_7_2  pixel_7_3  pixel_7_4  pixel_7_5  \\\n",
       "0        0.0        0.0        6.0       13.0       10.0        0.0   \n",
       "1        0.0        0.0        0.0       11.0       16.0       10.0   \n",
       "2        0.0        0.0        0.0        3.0       11.0       16.0   \n",
       "3        0.0        0.0        7.0       13.0       13.0        9.0   \n",
       "4        0.0        0.0        0.0        2.0       16.0        4.0   \n",
       "\n",
       "   pixel_7_6  pixel_7_7  \n",
       "0        0.0        0.0  \n",
       "1        0.0        0.0  \n",
       "2        9.0        0.0  \n",
       "3        0.0        0.0  \n",
       "4        0.0        0.0  \n",
       "\n",
       "[5 rows x 64 columns]"
      ]
     },
     "execution_count": 3,
     "metadata": {},
     "output_type": "execute_result"
    }
   ],
   "source": [
    "print('(n_imgs, n_features) =', imgs.shape, '\\n')\n",
    "imgs.head()"
   ]
  },
  {
   "cell_type": "markdown",
   "id": "3840a0b2-d140-411f-879b-519b65e0895c",
   "metadata": {},
   "source": [
    "As we see, each column represent the value of a particular pixel. For example, `pixel_0_7` represents the value of the last pixel in the first row of each image.<br/>\n",
    "From the docs, we read that each pixel has a value in the range 0-16. Let's see if the data types are consistent."
   ]
  },
  {
   "cell_type": "code",
   "execution_count": 4,
   "id": "2188e7b9-d58b-4ab6-961c-461819047047",
   "metadata": {},
   "outputs": [
    {
     "data": {
      "text/plain": [
       "array([dtype('float64')], dtype=object)"
      ]
     },
     "execution_count": 4,
     "metadata": {},
     "output_type": "execute_result"
    }
   ],
   "source": [
    "imgs.dtypes.unique()"
   ]
  },
  {
   "cell_type": "markdown",
   "id": "2e0bf768-0ecd-4203-b280-7dd40e3437bc",
   "metadata": {},
   "source": [
    "Each column is a float, so that's fine.<br/> \n",
    "Let's check if the range of each column is actually 0-16, as declared (i.e. no outliers):"
   ]
  },
  {
   "cell_type": "code",
   "execution_count": 5,
   "id": "59f7cb13-aadc-4ea0-8ff3-e538eebcbdda",
   "metadata": {},
   "outputs": [
    {
     "data": {
      "image/png": "[encoded data removed]",
      "text/plain": [
       "<Figure size 432x288 with 1 Axes>"
      ]
     },
     "metadata": {
      "needs_background": "light"
     },
     "output_type": "display_data"
    }
   ],
   "source": [
    "imgs.max().plot(style='.')\n",
    "plt.show()"
   ]
  },
  {
   "cell_type": "markdown",
   "id": "ae7dc1ea-7a39-4cdb-b897-54088703c755",
   "metadata": {},
   "source": [
    "Some pixels' values are always less than 16, but that's reasonable (see the image plot below). However, no outliers are present."
   ]
  },
  {
   "cell_type": "markdown",
   "id": "5768bd37-8a57-4501-8f3c-af1da169cac6",
   "metadata": {},
   "source": [
    "Are there missing values?"
   ]
  },
  {
   "cell_type": "code",
   "execution_count": 6,
   "id": "6977c992-56c6-48aa-9c34-e346cf7d9fd2",
   "metadata": {},
   "outputs": [
    {
     "data": {
      "text/plain": [
       "0"
      ]
     },
     "execution_count": 6,
     "metadata": {},
     "output_type": "execute_result"
    }
   ],
   "source": [
    "# total missing values in the dataset\n",
    "imgs.isnull().sum().sum()"
   ]
  },
  {
   "cell_type": "markdown",
   "id": "0da887a7-7e81-48db-9c43-e22780a9e90a",
   "metadata": {},
   "source": [
    "We can now consider the `target` column. Let's sneak a peek: "
   ]
  },
  {
   "cell_type": "code",
   "execution_count": 7,
   "id": "f94058d7-391d-4145-924f-1d4e161a187f",
   "metadata": {},
   "outputs": [
    {
     "data": {
      "text/plain": [
       "0    0\n",
       "1    1\n",
       "2    2\n",
       "3    3\n",
       "4    4\n",
       "5    5\n",
       "6    6\n",
       "7    7\n",
       "8    8\n",
       "9    9\n",
       "Name: target, dtype: int64"
      ]
     },
     "execution_count": 7,
     "metadata": {},
     "output_type": "execute_result"
    }
   ],
   "source": [
    "target.head(10)"
   ]
  },
  {
   "cell_type": "markdown",
   "id": "1e7335e5-e18b-4fbc-b93d-728b61ffc6e2",
   "metadata": {},
   "source": [
    "It's made of integers, as expected. Any missing value or outlier?"
   ]
  },
  {
   "cell_type": "code",
   "execution_count": 8,
   "id": "03810d5f-9ad7-4078-878c-554a920d08fa",
   "metadata": {},
   "outputs": [
    {
     "data": {
      "text/plain": [
       "0"
      ]
     },
     "execution_count": 8,
     "metadata": {},
     "output_type": "execute_result"
    }
   ],
   "source": [
    "# missing values\n",
    "target.isnull().sum()"
   ]
  },
  {
   "cell_type": "code",
   "execution_count": 9,
   "id": "cdd7507d-a8d2-42a8-aa39-d087985f419f",
   "metadata": {},
   "outputs": [
    {
     "data": {
      "text/plain": [
       "count    1797.000000\n",
       "mean        4.490818\n",
       "std         2.865304\n",
       "min         0.000000\n",
       "25%         2.000000\n",
       "50%         4.000000\n",
       "75%         7.000000\n",
       "max         9.000000\n",
       "Name: target, dtype: float64"
      ]
     },
     "execution_count": 9,
     "metadata": {},
     "output_type": "execute_result"
    }
   ],
   "source": [
    "# spotting outliers\n",
    "target.describe()"
   ]
  },
  {
   "cell_type": "markdown",
   "id": "8e2ac33a-c30c-40f6-ab69-fb40957546af",
   "metadata": {},
   "source": [
    "There are no outliers. The previous cell suggests another question: **is the dataset balanced?** In other words, are the digits more or less equally represented?"
   ]
  },
  {
   "cell_type": "code",
   "execution_count": 10,
   "id": "717b4126-9ba5-42bf-a479-37e712b9599e",
   "metadata": {},
   "outputs": [
    {
     "data": {
      "text/plain": [
       "0    178\n",
       "1    182\n",
       "2    177\n",
       "3    183\n",
       "4    181\n",
       "5    182\n",
       "6    181\n",
       "7    179\n",
       "8    174\n",
       "9    180\n",
       "Name: target, dtype: int64"
      ]
     },
     "execution_count": 10,
     "metadata": {},
     "output_type": "execute_result"
    }
   ],
   "source": [
    "target.value_counts().sort_index()"
   ]
  },
  {
   "cell_type": "markdown",
   "id": "4b2df7a4-55e2-4333-bdad-5e1969685805",
   "metadata": {},
   "source": [
    "Within 4%, the dataset is balanced. "
   ]
  },
  {
   "cell_type": "markdown",
   "id": "5965211d-391f-4f9b-8d88-2a65d723acf2",
   "metadata": {},
   "source": [
    "If we look back at the `target` column preview, the digits seem to have a progressive order:"
   ]
  },
  {
   "cell_type": "code",
   "execution_count": 251,
   "id": "5c9bb73a-f900-4bdf-b8f0-797811bad219",
   "metadata": {},
   "outputs": [
    {
     "data": {
      "text/plain": [
       "0     0\n",
       "1     1\n",
       "2     2\n",
       "3     3\n",
       "4     4\n",
       "5     5\n",
       "6     6\n",
       "7     7\n",
       "8     8\n",
       "9     9\n",
       "10    0\n",
       "11    1\n",
       "12    2\n",
       "13    3\n",
       "14    4\n",
       "15    5\n",
       "16    6\n",
       "17    7\n",
       "18    8\n",
       "19    9\n",
       "Name: target, dtype: int64"
      ]
     },
     "execution_count": 251,
     "metadata": {},
     "output_type": "execute_result"
    }
   ],
   "source": [
    "target.head(20)"
   ]
  },
  {
   "cell_type": "markdown",
   "id": "4f96d9bb-85a2-4b29-a36d-cd7ebf3567a5",
   "metadata": {},
   "source": [
    "We can explore this potential issue with a quick plot:"
   ]
  },
  {
   "cell_type": "code",
   "execution_count": 12,
   "id": "9a3462d4-da73-4ab8-82d9-ab7b9b0bfee0",
   "metadata": {},
   "outputs": [
    {
     "data": {
      "image/png": "[encoded data removed]",
      "text/plain": [
       "<Figure size 1440x115.2 with 1 Axes>"
      ]
     },
     "metadata": {
      "needs_background": "light"
     },
     "output_type": "display_data"
    }
   ],
   "source": [
    "target.plot(style='.', figsize=(20, 1.6))\n",
    "plt.title('Digits distribution in the dataset', fontsize=15)\n",
    "plt.xlabel('index', fontsize=13)\n",
    "plt.ylabel('digit', fontsize=13)\n",
    "plt.show()"
   ]
  },
  {
   "cell_type": "markdown",
   "id": "fd7fd628-6f69-4f56-b304-6404997e10b1",
   "metadata": {},
   "source": [
    "What we have found is interesting: there's definitely a *repetitive pattern* in how the digits are distributed inside the dataset.<br/>\n",
    "This could (maybe) lead the models astray, so we're going to **shuffle the data** when we create train and test sets, in order to break this pattern."
   ]
  },
  {
   "cell_type": "markdown",
   "id": "91aa7cff-4e28-48c3-990b-c78023588809",
   "metadata": {},
   "source": [
    "As a final step in data exploration, let's visualize some of the images in the dataset:"
   ]
  },
  {
   "cell_type": "code",
   "execution_count": 13,
   "id": "a87a47dc-eb0a-4257-a164-f9a412749d54",
   "metadata": {},
   "outputs": [
    {
     "data": {
      "image/png": "[encoded data removed]",
      "text/plain": [
       "<Figure size 1224x360 with 8 Axes>"
      ]
     },
     "metadata": {
      "needs_background": "light"
     },
     "output_type": "display_data"
    }
   ],
   "source": [
    "# select eight images from the dataset\n",
    "sample = imgs.iloc[[0, 100, 200, 300, 1000, 1100, 1200, 1300], :]\n",
    "sample.reset_index(inplace=True, drop=True)\n",
    "\n",
    "# plot them\n",
    "fig, axs = plt.subplots(2, 4, figsize=(17, 5))\n",
    "\n",
    "for i, ax in enumerate(axs.flat):\n",
    "    img = sample.iloc[i, :].values.reshape(8, 8)\n",
    "    ax.imshow(img, cmap='gray')   "
   ]
  },
  {
   "cell_type": "markdown",
   "id": "f25e1e1b-27ec-4dcc-90d0-85c8d8bfd8e6",
   "metadata": {},
   "source": [
    "The images have very low resolution. The advantage of using such a toy dataset is that training time is greatly reduced."
   ]
  },
  {
   "cell_type": "markdown",
   "id": "33b6347c-881e-4552-ab81-0224b6427b66",
   "metadata": {
    "tags": []
   },
   "source": [
    "## Train and test dataset"
   ]
  },
  {
   "cell_type": "markdown",
   "id": "709a052d-aae6-4f5e-8e1a-d375459ff070",
   "metadata": {},
   "source": [
    "Now we create the train and test dataset with a 85/15 proportion."
   ]
  },
  {
   "cell_type": "code",
   "execution_count": 70,
   "id": "03158701-5437-4b37-b24a-4245e9d7dec0",
   "metadata": {},
   "outputs": [],
   "source": [
    "# concatenate features and labels\n",
    "imgs_target = pd.concat([imgs, target], axis=1)\n",
    "# shuffle the dataset\n",
    "imgs_target = imgs_target.sample(frac=1, random_state=rs)\n",
    "# group by digit label followed by sampling, in order to obtain balanced train and test sets\n",
    "train_data = imgs_target.groupby('target').apply(lambda x: x.sample(frac=0.85, random_state=rs))\n",
    "# shuffle to break any already existing or created pattern\n",
    "train_data = train_data.droplevel('target').sample(frac=1, random_state=rs)\n",
    "test_data = imgs_target.loc[~imgs_target.index.isin(train_data.index)]\n",
    "train_data.reset_index(inplace=True, drop=True)\n",
    "test_data.reset_index(inplace=True, drop=True)\n",
    "\n",
    "X_train, y_train = train_data.iloc[:, :-1], train_data.target\n",
    "X_test, y_test = test_data.iloc[:, :-1], test_data.target"
   ]
  },
  {
   "cell_type": "markdown",
   "id": "2bbfc7af-df7b-4c94-ad06-5f1cc38604bc",
   "metadata": {},
   "source": [
    "The observed distribution pattern (see previous paragraph) should be absent."
   ]
  },
  {
   "cell_type": "code",
   "execution_count": 71,
   "id": "cf06ad54-2ba0-4463-81ec-93d00fdea86c",
   "metadata": {},
   "outputs": [
    {
     "data": {
      "image/png": "[encoded data removed]",
      "text/plain": [
       "<Figure size 1440x115.2 with 1 Axes>"
      ]
     },
     "metadata": {
      "needs_background": "light"
     },
     "output_type": "display_data"
    }
   ],
   "source": [
    "y_train.plot(style='.', figsize=(20, 1.6))\n",
    "plt.show()"
   ]
  },
  {
   "cell_type": "markdown",
   "id": "8836f6d6-752c-410f-9939-7e14701b210d",
   "metadata": {},
   "source": [
    "## Logistic regression"
   ]
  },
  {
   "cell_type": "markdown",
   "id": "5a5bf49e-ec58-4637-aa6e-7612d1e49e6c",
   "metadata": {},
   "source": [
    "Logistic regression is a generalization of linear regression where a linear combination of the features is used in order to predict the probability that a certain example in the dataset belongs to a certain class. It's the simplest model we will try and will be useful to answer to the question: are neural networks really necessary for this dataset?\n",
    "\n",
    "[**note**: the logistic regression can be seen as a neural network with no hidden layers and a sigmoid as activation function. See the introduction to nn's in Stanford's course CS229]"
   ]
  },
  {
   "cell_type": "markdown",
   "id": "19c2289f-eca7-4678-bd82-fb4d1908857a",
   "metadata": {},
   "source": [
    "Let's train the model on the train set and assess the performance on the test set."
   ]
  },
  {
   "cell_type": "code",
   "execution_count": 72,
   "id": "879a1dac-ee42-494f-970a-fdb5abc4b41b",
   "metadata": {},
   "outputs": [
    {
     "name": "stdout",
     "output_type": "stream",
     "text": [
      "Accuracies:\n",
      "train set: 1.0\n",
      "test set: 0.948\n"
     ]
    }
   ],
   "source": [
    "lr = LogisticRegression(max_iter=700, solver='newton-cg')\n",
    "lr.fit(X_train, y_train)\n",
    "\n",
    "pred_train = lr.predict(X_train)\n",
    "pred_test = lr.predict(X_test)\n",
    "\n",
    "print('Accuracies:')\n",
    "print('train set:', accuracy_score(y_train, pred_train))\n",
    "print('test set:', round(accuracy_score(y_test, pred_test), 3))"
   ]
  },
  {
   "cell_type": "markdown",
   "id": "1e47b20d-6988-4e15-bd38-07115948887c",
   "metadata": {},
   "source": [
    "The accuracy on the test set is already 94.8%, while on the train set the model correctly classifies all images. These performance might be the result of a toy dataset being used. It would be interesting to see if these results would be possible on a real-world dataset."
   ]
  },
  {
   "cell_type": "markdown",
   "id": "70e1b186-7924-4c48-bbee-ea5e326bd448",
   "metadata": {},
   "source": [
    "## K-nearest neighbors algorithm"
   ]
  },
  {
   "cell_type": "markdown",
   "id": "675222d0-6cea-446a-98ed-fdee075fc7b0",
   "metadata": {},
   "source": [
    "Let's define a function which performs a cross validation on the train set using the scikit-learn implementation of knn."
   ]
  },
  {
   "cell_type": "code",
   "execution_count": 74,
   "id": "517febdd-bcb5-48bf-beae-662463b2bec4",
   "metadata": {},
   "outputs": [],
   "source": [
    "def knn_cross_validate(\n",
    "        X: pd.DataFrame, y: pd.Series, nn=5, \n",
    "        n_folds=5) -> float:\n",
    "    \"\"\"\n",
    "    Perform cross-validation using k-nearest neighbors algorithm, \n",
    "    X as feature set and y as target values (classes).\n",
    "    \n",
    "    Return the average accuracy on both train and test ([0, 1]).\n",
    "    \"\"\"\n",
    "    \n",
    "    knn = KNeighborsClassifier(n_neighbors=nn)\n",
    "    cross_val_results = cross_validate(knn, X, y, scoring='accuracy', \n",
    "                                       cv=n_folds, return_train_score=True)\n",
    "        \n",
    "    train_acc = np.average(cross_val_results['train_score'])\n",
    "    test_acc = np.average(cross_val_results['test_score'])\n",
    "    \n",
    "    return round(train_acc, 3), round(test_acc, 3)"
   ]
  },
  {
   "cell_type": "markdown",
   "id": "180ed789-f34a-4d71-b105-bbcd01021b27",
   "metadata": {},
   "source": [
    "In the next cell we will cross-validate the model and plot the mean accuracy on both train and test dataset. We'll use a range of nearest neighbors from 1 to 30, and a 5-folds splitting of the train set."
   ]
  },
  {
   "cell_type": "code",
   "execution_count": 109,
   "id": "c826a33b-5b33-4b02-98df-89b519df7465",
   "metadata": {},
   "outputs": [
    {
     "data": {
      "image/png": "[encoded data removed]",
      "text/plain": [
       "<Figure size 720x432 with 1 Axes>"
      ]
     },
     "metadata": {
      "needs_background": "light"
     },
     "output_type": "display_data"
    }
   ],
   "source": [
    "neighbors = list(range(1, 31))\n",
    "\n",
    "# cross-validate the model\n",
    "accuracies = [knn_cross_validate(X_train, y_train, nn, n_folds=5) for nn in neighbors]\n",
    "train_acc = [x[0] for x in accuracies]\n",
    "test_acc = [x[1] for x in accuracies]\n",
    "\n",
    "# plot results\n",
    "fig, ax = plt.subplots(figsize=(10, 6))\n",
    "ax.plot(neighbors, train_acc, label='train')\n",
    "ax.plot(neighbors, test_acc, label='test')\n",
    "ax.legend()\n",
    "ax.set_xticks(neighbors)\n",
    "ax.set_xticklabels([str(n) for n in neighbors])\n",
    "ax.set_xlabel('no. of nearest neighbors', fontsize=13)\n",
    "ax.set_ylabel('mean accuracy [0,1]', fontsize=13)\n",
    "ax.set_title('kNN algorithm cross-validation', fontsize=15)\n",
    "ax.grid(axis='x')\n",
    "ax.set_ylim(0.95, 1)\n",
    "\n",
    "plt.show()"
   ]
  },
  {
   "cell_type": "markdown",
   "id": "0fa7bae1-58d9-4842-a0b5-ab706ba27aad",
   "metadata": {},
   "source": [
    "\n",
    "The model shows better accuracy when using few nearest neighbors, while the performances slowly decrease for larger values.<br/>\n",
    "Because the mean accuracy is virtually the same for k from 1 to 13 (around 98.5%), and because for k close to 1 the model shows potential signs of overfitting, we will choose as **the best model** the one with the smallest k where the two curves are the closest, i.e. **k=7**. \n",
    "\n",
    "We now assess the model performances on the test set."
   ]
  },
  {
   "cell_type": "code",
   "execution_count": 112,
   "id": "65bc8de6-dca8-42a0-9587-459235907df5",
   "metadata": {},
   "outputs": [
    {
     "name": "stdout",
     "output_type": "stream",
     "text": [
      "Best model assessment:\n",
      "train set accuracy: 0.99\n",
      "test set accuracy: 0.978\n"
     ]
    }
   ],
   "source": [
    "knn = KNeighborsClassifier(7)\n",
    "knn.fit(X_train, y_train)\n",
    "\n",
    "pred_train = knn.predict(X_train)\n",
    "pred_test = knn.predict(X_test)\n",
    "\n",
    "print('Best model assessment:')\n",
    "print('train set accuracy:', round(accuracy_score(y_train, pred_train), 3))\n",
    "print('test set accuracy:', round(accuracy_score(y_test, pred_test), 3))"
   ]
  },
  {
   "cell_type": "markdown",
   "id": "d8b04fd0-d440-43ae-ae0c-bf89f54b54c5",
   "metadata": {},
   "source": [
    "We have improved the accuracy from 94.8% with logistic regression to 97.8% using knn.<br/>\n",
    "We underline, however, that the algorithm is very expensive computationally, because it uses all the training data to make each single prediction. For the same reason, it can require high memory usage."
   ]
  },
  {
   "cell_type": "markdown",
   "id": "6f4eb58b-4f33-45ce-b94c-c4e621fc5b6c",
   "metadata": {},
   "source": [
    "## Multilayer perceptron"
   ]
  },
  {
   "cell_type": "markdown",
   "id": "7d6a357d-5c26-48f1-9946-05c8648eb722",
   "metadata": {},
   "source": [
    "\n",
    "We will try lots of different neural network architectures in our search for the best-performing model. Therefore we write some functions to make the iterative process easier and not redundant."
   ]
  },
  {
   "cell_type": "code",
   "execution_count": 114,
   "id": "e13678c9-dda7-4d59-8bfd-b6d2b426b1d6",
   "metadata": {
    "tags": []
   },
   "outputs": [],
   "source": [
    "def perceptron_cross_validate(\n",
    "        X: pd.DataFrame, y: pd.Series, hidden_layer_sizes: tuple, \n",
    "        activation='relu', max_iter=1500, n_folds=5, \n",
    "        random_state=1) -> (float, float):\n",
    "    \"\"\"\n",
    "    Train a multilayer perceptron with inner architecture defined by \n",
    "    hidden_layer_sizes and cross-validate it using n_folds split of data.\n",
    "    Return the mean accuracy on both train and test sets.\n",
    "    \n",
    "    [Note: here `test set` actually means one of the n_folds folds used \n",
    "     for cross-validation; not to be confused with the test set for model \n",
    "     performance final assessment.]\n",
    "    \"\"\"\n",
    "    \n",
    "    mlp = MLPClassifier(hidden_layer_sizes, activation=activation, \n",
    "                        random_state=random_state, max_iter=max_iter)\n",
    "    cross_val_results = cross_validate(mlp, X, y, scoring='accuracy', \n",
    "                                       cv=n_folds, return_train_score=True)\n",
    "    train_acc = np.average(cross_val_results['train_score'])\n",
    "    test_acc = np.average(cross_val_results['test_score'])\n",
    "    \n",
    "    return round(train_acc, 3), round(test_acc, 3)\n",
    "\n",
    "\n",
    "def cross_validate_all(\n",
    "        X: pd.DataFrame, y: pd.Series, hidden_layers: list, \n",
    "        activation='relu', max_iter=1500, n_folds=5, \n",
    "        print_progress=True) -> pd.DataFrame:\n",
    "    \"\"\"\n",
    "    Perform the big task: cross-validate the neural network for a set of \n",
    "    architectures defined by the hidden_layers list.\n",
    "    For example, for hidden_layers = [(10, 10), (30, 30), (50, 50)], \n",
    "    cross-validate three multilayer perceptrons, each with two equal hidden\n",
    "    layers with 10, 30 and 50 neurons respectively.\n",
    "    \n",
    "    At high level, it's a wrapper for the perceptron_cross_validate function,\n",
    "    which is called on each element of hidden_layers.\n",
    "    \n",
    "    Return a dataframe with the mean accuracies \n",
    "    on both the train and test set.\n",
    "    \"\"\"\n",
    "    \n",
    "    train_accuracies = []\n",
    "    test_accuracies = []\n",
    "    \n",
    "    # cross-validate for all the architectures defined in \n",
    "    # the hidden_layers list\n",
    "    for architecture in hidden_layers:\n",
    "        train_acc, test_acc = perceptron_cross_validate(X, y, architecture, \n",
    "                                                        activation, max_iter, \n",
    "                                                        n_folds)\n",
    "        if print_progress:\n",
    "            # let the user know which network has been processed\n",
    "            print(f'{architecture} neurons network: done.')  \n",
    "        train_accuracies.append(train_acc)\n",
    "        test_accuracies.append(test_acc)\n",
    "\n",
    "    # build a dataframe with results of cross-validation\n",
    "    results = pd.DataFrame(zip(train_accuracies, test_accuracies), \n",
    "                           index=hidden_layers, columns=['train', 'test'])\n",
    "    \n",
    "    return results"
   ]
  },
  {
   "cell_type": "code",
   "execution_count": 276,
   "id": "bceb5712-b19b-425f-a9c2-97deafce8da6",
   "metadata": {},
   "outputs": [],
   "source": [
    "def plot_results(\n",
    "        results, x_label, y_label, title, \n",
    "        y_lims=(.87, 1.), figsize=(8, 6)):\n",
    "    \"\"\"\n",
    "    Plot results as a vertical bar plot.\n",
    "    \"\"\"\n",
    "    \n",
    "    fig, ax = plt.subplots(figsize=figsize)\n",
    "\n",
    "    results.plot(kind='bar', ax=ax)\n",
    "    \n",
    "    # adjusting aesthetic\n",
    "    ax.set_ylim(y_lims[0], y_lims[1])\n",
    "    ax.set_xticklabels(labels=ax.get_xticklabels(), rotation=0, fontsize=13)\n",
    "    ax.set_xlabel(x_label, fontsize=14)\n",
    "    ax.set_ylabel(y_label, fontsize=14)\n",
    "    ax.set_title(title, fontsize=15)\n",
    "    ax.set_xticklabels(ax.get_xticklabels(), rotation=30)\n",
    "    ax.grid(axis='y')\n",
    "\n",
    "    plt.tight_layout()\n",
    "    plt.show()\n",
    "    \n",
    "    return None"
   ]
  },
  {
   "cell_type": "markdown",
   "id": "e1c9ef6c-8b6e-4a84-9f9e-81f4523d66d9",
   "metadata": {
    "tags": []
   },
   "source": [
    "### One hidden layer"
   ]
  },
  {
   "cell_type": "markdown",
   "id": "8e5c5043-9dc4-40c6-8c0a-f08e9b4c2089",
   "metadata": {},
   "source": [
    "Let's start with the simplest case, just one layer of neurons between the input and the output layer, and try different number of neurons in exponential order."
   ]
  },
  {
   "cell_type": "code",
   "execution_count": 123,
   "id": "f6939f99-1663-4b5f-8169-5964bb026f7d",
   "metadata": {},
   "outputs": [
    {
     "name": "stdout",
     "output_type": "stream",
     "text": [
      "(2,) neurons network: done.\n",
      "(4,) neurons network: done.\n",
      "(8,) neurons network: done.\n",
      "(16,) neurons network: done.\n",
      "(32,) neurons network: done.\n",
      "(64,) neurons network: done.\n",
      "(128,) neurons network: done.\n",
      "(256,) neurons network: done.\n",
      "(512,) neurons network: done.\n",
      "\n"
     ]
    },
    {
     "data": {
      "text/html": [
       "<div>\n",
       "<style scoped>\n",
       "    .dataframe tbody tr th:only-of-type {\n",
       "        vertical-align: middle;\n",
       "    }\n",
       "\n",
       "    .dataframe tbody tr th {\n",
       "        vertical-align: top;\n",
       "    }\n",
       "\n",
       "    .dataframe thead th {\n",
       "        text-align: right;\n",
       "    }\n",
       "</style>\n",
       "<table border=\"1\" class=\"dataframe\">\n",
       "  <thead>\n",
       "    <tr style=\"text-align: right;\">\n",
       "      <th></th>\n",
       "      <th>train</th>\n",
       "      <th>test</th>\n",
       "    </tr>\n",
       "  </thead>\n",
       "  <tbody>\n",
       "    <tr>\n",
       "      <th>(2,)</th>\n",
       "      <td>0.311</td>\n",
       "      <td>0.296</td>\n",
       "    </tr>\n",
       "    <tr>\n",
       "      <th>(4,)</th>\n",
       "      <td>0.888</td>\n",
       "      <td>0.827</td>\n",
       "    </tr>\n",
       "    <tr>\n",
       "      <th>(8,)</th>\n",
       "      <td>0.999</td>\n",
       "      <td>0.940</td>\n",
       "    </tr>\n",
       "    <tr>\n",
       "      <th>(16,)</th>\n",
       "      <td>1.000</td>\n",
       "      <td>0.961</td>\n",
       "    </tr>\n",
       "    <tr>\n",
       "      <th>(32,)</th>\n",
       "      <td>1.000</td>\n",
       "      <td>0.964</td>\n",
       "    </tr>\n",
       "    <tr>\n",
       "      <th>(64,)</th>\n",
       "      <td>1.000</td>\n",
       "      <td>0.967</td>\n",
       "    </tr>\n",
       "    <tr>\n",
       "      <th>(128,)</th>\n",
       "      <td>1.000</td>\n",
       "      <td>0.972</td>\n",
       "    </tr>\n",
       "    <tr>\n",
       "      <th>(256,)</th>\n",
       "      <td>1.000</td>\n",
       "      <td>0.978</td>\n",
       "    </tr>\n",
       "    <tr>\n",
       "      <th>(512,)</th>\n",
       "      <td>1.000</td>\n",
       "      <td>0.974</td>\n",
       "    </tr>\n",
       "  </tbody>\n",
       "</table>\n",
       "</div>"
      ],
      "text/plain": [
       "        train   test\n",
       "(2,)    0.311  0.296\n",
       "(4,)    0.888  0.827\n",
       "(8,)    0.999  0.940\n",
       "(16,)   1.000  0.961\n",
       "(32,)   1.000  0.964\n",
       "(64,)   1.000  0.967\n",
       "(128,)  1.000  0.972\n",
       "(256,)  1.000  0.978\n",
       "(512,)  1.000  0.974"
      ]
     },
     "execution_count": 123,
     "metadata": {},
     "output_type": "execute_result"
    }
   ],
   "source": [
    "# list defining number of neurons in the hidden layer\n",
    "architectures = [(2 ** n, ) for n in range(1, 10)]\n",
    "\n",
    "results_df = cross_validate_all(X_train, y_train, architectures)\n",
    "print()\n",
    "results_df"
   ]
  },
  {
   "cell_type": "code",
   "execution_count": 267,
   "id": "4b34a07d-fcfe-49c3-b243-5e7ee49cbebf",
   "metadata": {},
   "outputs": [
    {
     "data": {
      "image/png": "[encoded data removed]",
      "text/plain": [
       "<Figure size 576x432 with 1 Axes>"
      ]
     },
     "metadata": {
      "needs_background": "light"
     },
     "output_type": "display_data"
    }
   ],
   "source": [
    "plot_results(results_df, 'no. of neurons', \n",
    "             'mean accuracy [0,1]', \n",
    "             'Cross-validation on one hidden layer NN')"
   ]
  },
  {
   "cell_type": "markdown",
   "id": "dd5f5123-7f6b-4485-ba19-ced9bac2a8fb",
   "metadata": {},
   "source": [
    "We see that using 2 or 4 neurons yields an accuracy well below 90%, even on the train set. The accuracy increases to over 90% using 8 or more neurons. The best models are the ones with 128, 256 and 512 neurons, each showing comparable accuracy **between 97 and 98%**.\n",
    "\n",
    "Let's see if we obtain better performances by moving around those values."
   ]
  },
  {
   "cell_type": "markdown",
   "id": "f903f89a-d294-4409-9c14-82aeb9ac40f2",
   "metadata": {},
   "source": [
    "#### **Fine-tuning around 128, 256 and 512 neurons**"
   ]
  },
  {
   "cell_type": "code",
   "execution_count": 127,
   "id": "20c4db2a-273c-44dc-8348-4e74fd513a75",
   "metadata": {
    "tags": []
   },
   "outputs": [
    {
     "data": {
      "text/html": [
       "<div>\n",
       "<style scoped>\n",
       "    .dataframe tbody tr th:only-of-type {\n",
       "        vertical-align: middle;\n",
       "    }\n",
       "\n",
       "    .dataframe tbody tr th {\n",
       "        vertical-align: top;\n",
       "    }\n",
       "\n",
       "    .dataframe thead th {\n",
       "        text-align: right;\n",
       "    }\n",
       "</style>\n",
       "<table border=\"1\" class=\"dataframe\">\n",
       "  <thead>\n",
       "    <tr style=\"text-align: right;\">\n",
       "      <th></th>\n",
       "      <th>train</th>\n",
       "      <th>test</th>\n",
       "    </tr>\n",
       "  </thead>\n",
       "  <tbody>\n",
       "    <tr>\n",
       "      <th>90</th>\n",
       "      <td>1.0</td>\n",
       "      <td>0.971</td>\n",
       "    </tr>\n",
       "    <tr>\n",
       "      <th>100</th>\n",
       "      <td>1.0</td>\n",
       "      <td>0.969</td>\n",
       "    </tr>\n",
       "    <tr>\n",
       "      <th>110</th>\n",
       "      <td>1.0</td>\n",
       "      <td>0.978</td>\n",
       "    </tr>\n",
       "    <tr>\n",
       "      <th>120</th>\n",
       "      <td>1.0</td>\n",
       "      <td>0.978</td>\n",
       "    </tr>\n",
       "    <tr>\n",
       "      <th>130</th>\n",
       "      <td>1.0</td>\n",
       "      <td>0.978</td>\n",
       "    </tr>\n",
       "    <tr>\n",
       "      <th>140</th>\n",
       "      <td>1.0</td>\n",
       "      <td>0.979</td>\n",
       "    </tr>\n",
       "    <tr>\n",
       "      <th>150</th>\n",
       "      <td>1.0</td>\n",
       "      <td>0.975</td>\n",
       "    </tr>\n",
       "  </tbody>\n",
       "</table>\n",
       "</div>"
      ],
      "text/plain": [
       "     train   test\n",
       "90     1.0  0.971\n",
       "100    1.0  0.969\n",
       "110    1.0  0.978\n",
       "120    1.0  0.978\n",
       "130    1.0  0.978\n",
       "140    1.0  0.979\n",
       "150    1.0  0.975"
      ]
     },
     "execution_count": 127,
     "metadata": {},
     "output_type": "execute_result"
    }
   ],
   "source": [
    "ft_around_128 = cross_validate_all(X_train, y_train, \n",
    "                                   list(range(90, 160, 10)), \n",
    "                                   print_progress=False)\n",
    "ft_around_128"
   ]
  },
  {
   "cell_type": "code",
   "execution_count": 268,
   "id": "81f69c02-f340-485b-a7af-cc51f583eae0",
   "metadata": {},
   "outputs": [
    {
     "data": {
      "image/png": "[encoded data removed]",
      "text/plain": [
       "<Figure size 576x432 with 1 Axes>"
      ]
     },
     "metadata": {
      "needs_background": "light"
     },
     "output_type": "display_data"
    }
   ],
   "source": [
    "plot_results(ft_around_128, 'neurons', 'mean accuracy [0,1]', \n",
    "             'Fine tuning aroung 128 neurons')"
   ]
  },
  {
   "cell_type": "markdown",
   "id": "5b4af866-e655-4d5b-95e3-b3c02ed8fa5b",
   "metadata": {},
   "source": [
    "The fine tuning in this \"region\" confirms the previous results: an accuracy between 97 and 98%.<br/>\n",
    "Let's move to the next set of neurons."
   ]
  },
  {
   "cell_type": "code",
   "execution_count": 131,
   "id": "12fb7629-ba81-4372-9183-e588f67e52e1",
   "metadata": {
    "tags": []
   },
   "outputs": [
    {
     "data": {
      "text/html": [
       "<div>\n",
       "<style scoped>\n",
       "    .dataframe tbody tr th:only-of-type {\n",
       "        vertical-align: middle;\n",
       "    }\n",
       "\n",
       "    .dataframe tbody tr th {\n",
       "        vertical-align: top;\n",
       "    }\n",
       "\n",
       "    .dataframe thead th {\n",
       "        text-align: right;\n",
       "    }\n",
       "</style>\n",
       "<table border=\"1\" class=\"dataframe\">\n",
       "  <thead>\n",
       "    <tr style=\"text-align: right;\">\n",
       "      <th></th>\n",
       "      <th>train</th>\n",
       "      <th>test</th>\n",
       "    </tr>\n",
       "  </thead>\n",
       "  <tbody>\n",
       "    <tr>\n",
       "      <th>220</th>\n",
       "      <td>1.0</td>\n",
       "      <td>0.980</td>\n",
       "    </tr>\n",
       "    <tr>\n",
       "      <th>230</th>\n",
       "      <td>1.0</td>\n",
       "      <td>0.977</td>\n",
       "    </tr>\n",
       "    <tr>\n",
       "      <th>240</th>\n",
       "      <td>1.0</td>\n",
       "      <td>0.974</td>\n",
       "    </tr>\n",
       "    <tr>\n",
       "      <th>250</th>\n",
       "      <td>1.0</td>\n",
       "      <td>0.979</td>\n",
       "    </tr>\n",
       "    <tr>\n",
       "      <th>260</th>\n",
       "      <td>1.0</td>\n",
       "      <td>0.982</td>\n",
       "    </tr>\n",
       "    <tr>\n",
       "      <th>270</th>\n",
       "      <td>1.0</td>\n",
       "      <td>0.978</td>\n",
       "    </tr>\n",
       "    <tr>\n",
       "      <th>280</th>\n",
       "      <td>1.0</td>\n",
       "      <td>0.977</td>\n",
       "    </tr>\n",
       "  </tbody>\n",
       "</table>\n",
       "</div>"
      ],
      "text/plain": [
       "     train   test\n",
       "220    1.0  0.980\n",
       "230    1.0  0.977\n",
       "240    1.0  0.974\n",
       "250    1.0  0.979\n",
       "260    1.0  0.982\n",
       "270    1.0  0.978\n",
       "280    1.0  0.977"
      ]
     },
     "execution_count": 131,
     "metadata": {},
     "output_type": "execute_result"
    }
   ],
   "source": [
    "ft_around_256 = cross_validate_all(X_train, y_train, \n",
    "                                   list(range(220, 290, 10)), \n",
    "                                   print_progress=False)\n",
    "ft_around_256"
   ]
  },
  {
   "cell_type": "code",
   "execution_count": 270,
   "id": "a3aa3ad6-01db-48d0-a2fe-380bd14c0fc9",
   "metadata": {},
   "outputs": [
    {
     "data": {
      "image/png": "[encoded data removed]",
      "text/plain": [
       "<Figure size 576x432 with 1 Axes>"
      ]
     },
     "metadata": {
      "needs_background": "light"
     },
     "output_type": "display_data"
    }
   ],
   "source": [
    "plot_results(ft_around_256, 'neurons', 'mean accuracy [0,1]', \n",
    "             'Fine tuning aroung 256 neurons')"
   ]
  },
  {
   "cell_type": "markdown",
   "id": "280f0a22-3e7c-40c2-9f16-ca02cde7d853",
   "metadata": {},
   "source": [
    "The best model here uses 260 neurons, but the improvement is only marginal: 98.2% (probably still in the random variation due to the dataset)."
   ]
  },
  {
   "cell_type": "code",
   "execution_count": 136,
   "id": "0e497c94-fc1c-481f-8e3a-fb3c2e04268e",
   "metadata": {},
   "outputs": [
    {
     "data": {
      "text/html": [
       "<div>\n",
       "<style scoped>\n",
       "    .dataframe tbody tr th:only-of-type {\n",
       "        vertical-align: middle;\n",
       "    }\n",
       "\n",
       "    .dataframe tbody tr th {\n",
       "        vertical-align: top;\n",
       "    }\n",
       "\n",
       "    .dataframe thead th {\n",
       "        text-align: right;\n",
       "    }\n",
       "</style>\n",
       "<table border=\"1\" class=\"dataframe\">\n",
       "  <thead>\n",
       "    <tr style=\"text-align: right;\">\n",
       "      <th></th>\n",
       "      <th>train</th>\n",
       "      <th>test</th>\n",
       "    </tr>\n",
       "  </thead>\n",
       "  <tbody>\n",
       "    <tr>\n",
       "      <th>480</th>\n",
       "      <td>1.0</td>\n",
       "      <td>0.980</td>\n",
       "    </tr>\n",
       "    <tr>\n",
       "      <th>490</th>\n",
       "      <td>1.0</td>\n",
       "      <td>0.980</td>\n",
       "    </tr>\n",
       "    <tr>\n",
       "      <th>500</th>\n",
       "      <td>1.0</td>\n",
       "      <td>0.983</td>\n",
       "    </tr>\n",
       "    <tr>\n",
       "      <th>510</th>\n",
       "      <td>1.0</td>\n",
       "      <td>0.978</td>\n",
       "    </tr>\n",
       "    <tr>\n",
       "      <th>520</th>\n",
       "      <td>1.0</td>\n",
       "      <td>0.978</td>\n",
       "    </tr>\n",
       "    <tr>\n",
       "      <th>530</th>\n",
       "      <td>1.0</td>\n",
       "      <td>0.982</td>\n",
       "    </tr>\n",
       "    <tr>\n",
       "      <th>540</th>\n",
       "      <td>1.0</td>\n",
       "      <td>0.981</td>\n",
       "    </tr>\n",
       "  </tbody>\n",
       "</table>\n",
       "</div>"
      ],
      "text/plain": [
       "     train   test\n",
       "480    1.0  0.980\n",
       "490    1.0  0.980\n",
       "500    1.0  0.983\n",
       "510    1.0  0.978\n",
       "520    1.0  0.978\n",
       "530    1.0  0.982\n",
       "540    1.0  0.981"
      ]
     },
     "execution_count": 136,
     "metadata": {},
     "output_type": "execute_result"
    }
   ],
   "source": [
    "ft_around_512 = cross_validate_all(X_train, y_train, \n",
    "                                   list(range(480, 550, 10)), \n",
    "                                   print_progress=False)\n",
    "ft_around_512"
   ]
  },
  {
   "cell_type": "code",
   "execution_count": 271,
   "id": "3e7e854f-4527-4669-9c48-6a0cde7b301a",
   "metadata": {},
   "outputs": [
    {
     "data": {
      "image/png": "[encoded data removed]",
      "text/plain": [
       "<Figure size 576x432 with 1 Axes>"
      ]
     },
     "metadata": {
      "needs_background": "light"
     },
     "output_type": "display_data"
    }
   ],
   "source": [
    "plot_results(ft_around_512, 'neurons', 'mean accuracy [0,1]', \n",
    "             'Fine tuning aroung 512 neurons')"
   ]
  },
  {
   "cell_type": "markdown",
   "id": "947787b6-97b6-45dd-9fd2-fda70d57e140",
   "metadata": {},
   "source": [
    "Again, no real news come from this fine tuning \"region\". The best performance is obtained with 500 neurons (98.3%).\n",
    "\n",
    "We will call the best model the simplest (i.e. fewest neurons) which gave an accuracy over 98%: **260 neurons**.<br/>\n",
    "The next cell train it on the whole train set and assess its performance on the test set."
   ]
  },
  {
   "cell_type": "code",
   "execution_count": 226,
   "id": "40753c83-0b39-48b1-84e6-98cda0c4a6ed",
   "metadata": {},
   "outputs": [
    {
     "name": "stdout",
     "output_type": "stream",
     "text": [
      "Best model assessment:\n",
      "train set: 1.0\n",
      "test set: 0.978\n"
     ]
    }
   ],
   "source": [
    "mlp_one_final = MLPClassifier(hidden_layer_sizes=(260, ), activation='relu', \n",
    "                              max_iter=1500, random_state=rs)\n",
    "\n",
    "mlp_one_final.fit(X_train, y_train)\n",
    "\n",
    "train_pred = mlp_one_final.predict(X_train)\n",
    "test_pred = mlp_one_final.predict(X_test)\n",
    "\n",
    "print('Best model assessment:')\n",
    "print('train set:', accuracy_score(y_train, train_pred))\n",
    "print('test set:', round(accuracy_score(y_test, test_pred), 3))"
   ]
  },
  {
   "cell_type": "markdown",
   "id": "40db360e-5519-4744-94f6-70d5d3b65ef7",
   "metadata": {},
   "source": [
    "The best model accuracy on the test set is **97.8%**.\n",
    "\n",
    "Let's now add more layers to see if the accuracy significantly improves."
   ]
  },
  {
   "cell_type": "markdown",
   "id": "96399faa-b55d-42e1-8ec7-47d966fefde9",
   "metadata": {},
   "source": [
    "### Two hidden layers\n",
    "\n",
    "Let's repeat essentially the same steps for a nn with two inner layers, varying the number of neurons."
   ]
  },
  {
   "cell_type": "code",
   "execution_count": 151,
   "id": "22429c5c-0132-4a7d-8b2f-8502ebd278e1",
   "metadata": {},
   "outputs": [
    {
     "name": "stdout",
     "output_type": "stream",
     "text": [
      "(8, 8) neurons network: done.\n",
      "(16, 16) neurons network: done.\n",
      "(32, 32) neurons network: done.\n",
      "(64, 64) neurons network: done.\n",
      "(128, 128) neurons network: done.\n",
      "(256, 256) neurons network: done.\n",
      "(512, 512) neurons network: done.\n"
     ]
    },
    {
     "data": {
      "text/html": [
       "<div>\n",
       "<style scoped>\n",
       "    .dataframe tbody tr th:only-of-type {\n",
       "        vertical-align: middle;\n",
       "    }\n",
       "\n",
       "    .dataframe tbody tr th {\n",
       "        vertical-align: top;\n",
       "    }\n",
       "\n",
       "    .dataframe thead th {\n",
       "        text-align: right;\n",
       "    }\n",
       "</style>\n",
       "<table border=\"1\" class=\"dataframe\">\n",
       "  <thead>\n",
       "    <tr style=\"text-align: right;\">\n",
       "      <th></th>\n",
       "      <th>train</th>\n",
       "      <th>test</th>\n",
       "    </tr>\n",
       "  </thead>\n",
       "  <tbody>\n",
       "    <tr>\n",
       "      <th>(8, 8)</th>\n",
       "      <td>0.999</td>\n",
       "      <td>0.927</td>\n",
       "    </tr>\n",
       "    <tr>\n",
       "      <th>(16, 16)</th>\n",
       "      <td>1.000</td>\n",
       "      <td>0.954</td>\n",
       "    </tr>\n",
       "    <tr>\n",
       "      <th>(32, 32)</th>\n",
       "      <td>1.000</td>\n",
       "      <td>0.969</td>\n",
       "    </tr>\n",
       "    <tr>\n",
       "      <th>(64, 64)</th>\n",
       "      <td>1.000</td>\n",
       "      <td>0.972</td>\n",
       "    </tr>\n",
       "    <tr>\n",
       "      <th>(128, 128)</th>\n",
       "      <td>1.000</td>\n",
       "      <td>0.977</td>\n",
       "    </tr>\n",
       "    <tr>\n",
       "      <th>(256, 256)</th>\n",
       "      <td>1.000</td>\n",
       "      <td>0.984</td>\n",
       "    </tr>\n",
       "    <tr>\n",
       "      <th>(512, 512)</th>\n",
       "      <td>1.000</td>\n",
       "      <td>0.984</td>\n",
       "    </tr>\n",
       "  </tbody>\n",
       "</table>\n",
       "</div>"
      ],
      "text/plain": [
       "            train   test\n",
       "(8, 8)      0.999  0.927\n",
       "(16, 16)    1.000  0.954\n",
       "(32, 32)    1.000  0.969\n",
       "(64, 64)    1.000  0.972\n",
       "(128, 128)  1.000  0.977\n",
       "(256, 256)  1.000  0.984\n",
       "(512, 512)  1.000  0.984"
      ]
     },
     "execution_count": 151,
     "metadata": {},
     "output_type": "execute_result"
    }
   ],
   "source": [
    "architectures_two = [(8, 8), (16, 16), (32, 32), (64, 64), \n",
    "                     (128, 128), (256, 256), (512, 512)]\n",
    "\n",
    "results_two = cross_validate_all(X_train, y_train, architectures_two)\n",
    "results_two"
   ]
  },
  {
   "cell_type": "code",
   "execution_count": 272,
   "id": "eb3c959a-01f9-425c-b294-ce5b6b4ac43d",
   "metadata": {},
   "outputs": [
    {
     "data": {
      "image/png": "[encoded data removed]",
      "text/plain": [
       "<Figure size 576x432 with 1 Axes>"
      ]
     },
     "metadata": {
      "needs_background": "light"
     },
     "output_type": "display_data"
    }
   ],
   "source": [
    "plot_results(results_two, 'hidden layer sizes', 'mean accuracy [0,1]', \n",
    "             'Cross-validation on two-hidden-layer NN')"
   ]
  },
  {
   "cell_type": "markdown",
   "id": "dad5f071-6d53-49df-a7b1-2a14d33d0523",
   "metadata": {},
   "source": [
    "No real improvement is observed since the accuracy is very close to 98%.<br/>\n",
    "Let's explore the most promising region of hyperparameters, to see if we missed some \"sweet spot\"."
   ]
  },
  {
   "cell_type": "markdown",
   "id": "6f158289-292e-4b54-932b-e097893a95df",
   "metadata": {},
   "source": [
    "#### **Fine tuning from (220, 220) to (540, 540)**"
   ]
  },
  {
   "cell_type": "code",
   "execution_count": 154,
   "id": "8af10625-b7c0-4e2e-8380-b19e986c298f",
   "metadata": {},
   "outputs": [],
   "source": [
    "ft_two = cross_validate_all(X_train, y_train, \n",
    "                            [(n, n) for n in range(220, 550, 10)], \n",
    "                            print_progress=False)"
   ]
  },
  {
   "cell_type": "markdown",
   "id": "ee00d220-01d9-4e2f-9980-3df2c5f73499",
   "metadata": {},
   "source": [
    "The best performing nets in this \"region\" are:"
   ]
  },
  {
   "cell_type": "code",
   "execution_count": 223,
   "id": "328cd002-ef44-4294-8609-43e3a42c60ad",
   "metadata": {},
   "outputs": [
    {
     "data": {
      "text/html": [
       "<div>\n",
       "<style scoped>\n",
       "    .dataframe tbody tr th:only-of-type {\n",
       "        vertical-align: middle;\n",
       "    }\n",
       "\n",
       "    .dataframe tbody tr th {\n",
       "        vertical-align: top;\n",
       "    }\n",
       "\n",
       "    .dataframe thead th {\n",
       "        text-align: right;\n",
       "    }\n",
       "</style>\n",
       "<table border=\"1\" class=\"dataframe\">\n",
       "  <thead>\n",
       "    <tr style=\"text-align: right;\">\n",
       "      <th></th>\n",
       "      <th>train</th>\n",
       "      <th>test</th>\n",
       "    </tr>\n",
       "  </thead>\n",
       "  <tbody>\n",
       "    <tr>\n",
       "      <th>(370, 370)</th>\n",
       "      <td>1.0</td>\n",
       "      <td>0.985</td>\n",
       "    </tr>\n",
       "    <tr>\n",
       "      <th>(430, 430)</th>\n",
       "      <td>1.0</td>\n",
       "      <td>0.985</td>\n",
       "    </tr>\n",
       "  </tbody>\n",
       "</table>\n",
       "</div>"
      ],
      "text/plain": [
       "            train   test\n",
       "(370, 370)    1.0  0.985\n",
       "(430, 430)    1.0  0.985"
      ]
     },
     "execution_count": 223,
     "metadata": {},
     "output_type": "execute_result"
    }
   ],
   "source": [
    "ft_two.loc[ft_two.test == ft_two.test.max()]"
   ]
  },
  {
   "cell_type": "code",
   "execution_count": 273,
   "id": "cbee3d64-0aa7-4667-afdf-bbfa8c9d0d1b",
   "metadata": {},
   "outputs": [
    {
     "data": {
      "image/png": "[encoded data removed]",
      "text/plain": [
       "<Figure size 2160x432 with 1 Axes>"
      ]
     },
     "metadata": {
      "needs_background": "light"
     },
     "output_type": "display_data"
    }
   ],
   "source": [
    "plot_results(ft_two, 'hidden layer sizes', 'mean accuracy [0,1]', \n",
    "             'Cross-validation on two-hidden-layer NN:\\nfine-tuning',\n",
    "             figsize=(30, 6))"
   ]
  },
  {
   "cell_type": "markdown",
   "id": "f357118c-12da-47a1-9007-6d72f9c96bf2",
   "metadata": {},
   "source": [
    "The performances are very consistent across the range we've explored.<br/>\n",
    "There's probably no real difference between the one hidden layer and the two hidden layer best accuracies. Of course, we cannot say for sure just by eyeballing the barplots: **we'd need a statistical test to decide whether these architectures really differ in performances**. Anyway, the accuracy is always around 98%, more or less 0.5%, which gives us some real hint that we're not improving the performance by using a more complicated architecture.\n",
    "\n",
    "Given the above (partial) results, by Occam's razor, the best net to date is the one-hidden-layer."
   ]
  },
  {
   "cell_type": "markdown",
   "id": "a5d63a18-6ee4-41fe-9480-f7d33872ffff",
   "metadata": {},
   "source": [
    "Let's now add another hidden layer."
   ]
  },
  {
   "cell_type": "markdown",
   "id": "dad7c86f-936b-43dc-a1b9-b98939d2105b",
   "metadata": {},
   "source": [
    "### Three hidden layers"
   ]
  },
  {
   "cell_type": "code",
   "execution_count": 178,
   "id": "ab5b55b2-0861-4cb9-b108-471eacb83d94",
   "metadata": {},
   "outputs": [
    {
     "name": "stdout",
     "output_type": "stream",
     "text": [
      "(32, 32, 32) neurons network: done.\n",
      "(64, 64, 64) neurons network: done.\n",
      "(128, 128, 128) neurons network: done.\n",
      "(256, 256, 256) neurons network: done.\n",
      "(512, 512, 512) neurons network: done.\n"
     ]
    }
   ],
   "source": [
    "architectures_three = [(32, 32, 32),\n",
    "                       (64,64,64),\n",
    "                       (128,128,128), \n",
    "                       (256, 256, 256),\n",
    "                       (512, 512, 512)]\n",
    "\n",
    "results_three = cross_validate_all(X_train, y_train, architectures_three)"
   ]
  },
  {
   "cell_type": "code",
   "execution_count": 239,
   "id": "5cc38522-fcbf-4810-92e1-9f35b9aa33c2",
   "metadata": {},
   "outputs": [
    {
     "data": {
      "text/html": [
       "<div>\n",
       "<style scoped>\n",
       "    .dataframe tbody tr th:only-of-type {\n",
       "        vertical-align: middle;\n",
       "    }\n",
       "\n",
       "    .dataframe tbody tr th {\n",
       "        vertical-align: top;\n",
       "    }\n",
       "\n",
       "    .dataframe thead th {\n",
       "        text-align: right;\n",
       "    }\n",
       "</style>\n",
       "<table border=\"1\" class=\"dataframe\">\n",
       "  <thead>\n",
       "    <tr style=\"text-align: right;\">\n",
       "      <th></th>\n",
       "      <th>train</th>\n",
       "      <th>test</th>\n",
       "    </tr>\n",
       "  </thead>\n",
       "  <tbody>\n",
       "    <tr>\n",
       "      <th>(32, 32, 32)</th>\n",
       "      <td>1.0</td>\n",
       "      <td>0.959</td>\n",
       "    </tr>\n",
       "    <tr>\n",
       "      <th>(64, 64, 64)</th>\n",
       "      <td>1.0</td>\n",
       "      <td>0.974</td>\n",
       "    </tr>\n",
       "    <tr>\n",
       "      <th>(128, 128, 128)</th>\n",
       "      <td>1.0</td>\n",
       "      <td>0.979</td>\n",
       "    </tr>\n",
       "    <tr>\n",
       "      <th>(256, 256, 256)</th>\n",
       "      <td>1.0</td>\n",
       "      <td>0.984</td>\n",
       "    </tr>\n",
       "    <tr>\n",
       "      <th>(512, 512, 512)</th>\n",
       "      <td>1.0</td>\n",
       "      <td>0.985</td>\n",
       "    </tr>\n",
       "  </tbody>\n",
       "</table>\n",
       "</div>"
      ],
      "text/plain": [
       "                 train   test\n",
       "(32, 32, 32)       1.0  0.959\n",
       "(64, 64, 64)       1.0  0.974\n",
       "(128, 128, 128)    1.0  0.979\n",
       "(256, 256, 256)    1.0  0.984\n",
       "(512, 512, 512)    1.0  0.985"
      ]
     },
     "execution_count": 239,
     "metadata": {},
     "output_type": "execute_result"
    }
   ],
   "source": [
    "results_three"
   ]
  },
  {
   "cell_type": "code",
   "execution_count": 274,
   "id": "abe59422-45ac-4eb9-af6b-5ca468c6c1d2",
   "metadata": {},
   "outputs": [
    {
     "data": {
      "image/png": "[encoded data removed]",
      "text/plain": [
       "<Figure size 576x432 with 1 Axes>"
      ]
     },
     "metadata": {
      "needs_background": "light"
     },
     "output_type": "display_data"
    }
   ],
   "source": [
    "plot_results(results_three, 'hidden layer sizes', 'mean accuracy [0,1]', \n",
    "             'Cross-validation on three-hidden-layers NN')"
   ]
  },
  {
   "cell_type": "markdown",
   "id": "3288e068-c795-49c7-a9e9-f761b76d2899",
   "metadata": {},
   "source": [
    "Again, no real improvement seems to appear. "
   ]
  },
  {
   "cell_type": "markdown",
   "id": "7868806e-07c0-4384-84ce-ad22236f865b",
   "metadata": {},
   "source": [
    "#### **Fine-tuning from (220, 220, 220) to (540, 540, 540)**"
   ]
  },
  {
   "cell_type": "code",
   "execution_count": 183,
   "id": "c938b0aa-7fb0-4b0a-bc30-d62b27a5fa33",
   "metadata": {},
   "outputs": [],
   "source": [
    "ft_three = cross_validate_all(X_train, y_train, \n",
    "                              [(n, n, n) for n in range(220, 550, 10)], \n",
    "                              print_progress=False)"
   ]
  },
  {
   "cell_type": "markdown",
   "id": "7b567d21-defe-46ed-97fc-d6d9b18ae113",
   "metadata": {},
   "source": [
    "The best accuracy is obtained for:"
   ]
  },
  {
   "cell_type": "code",
   "execution_count": 218,
   "id": "fd97e064-e91e-4a9a-94bd-8a819fe36d9a",
   "metadata": {},
   "outputs": [
    {
     "data": {
      "text/html": [
       "<div>\n",
       "<style scoped>\n",
       "    .dataframe tbody tr th:only-of-type {\n",
       "        vertical-align: middle;\n",
       "    }\n",
       "\n",
       "    .dataframe tbody tr th {\n",
       "        vertical-align: top;\n",
       "    }\n",
       "\n",
       "    .dataframe thead th {\n",
       "        text-align: right;\n",
       "    }\n",
       "</style>\n",
       "<table border=\"1\" class=\"dataframe\">\n",
       "  <thead>\n",
       "    <tr style=\"text-align: right;\">\n",
       "      <th></th>\n",
       "      <th>train</th>\n",
       "      <th>test</th>\n",
       "    </tr>\n",
       "  </thead>\n",
       "  <tbody>\n",
       "    <tr>\n",
       "      <th>(220, 220, 220)</th>\n",
       "      <td>1.0</td>\n",
       "      <td>0.984</td>\n",
       "    </tr>\n",
       "  </tbody>\n",
       "</table>\n",
       "</div>"
      ],
      "text/plain": [
       "                 train   test\n",
       "(220, 220, 220)    1.0  0.984"
      ]
     },
     "execution_count": 218,
     "metadata": {},
     "output_type": "execute_result"
    }
   ],
   "source": [
    "ft_three.loc[[ft_three.test.idxmax()]]"
   ]
  },
  {
   "cell_type": "markdown",
   "id": "21c90173-ba50-4fca-aa6f-470d00416659",
   "metadata": {},
   "source": [
    "Still around 98%. Are there other networks yielding the same results?"
   ]
  },
  {
   "cell_type": "code",
   "execution_count": 219,
   "id": "d7874de8-a20c-4439-baef-d74e7bad832f",
   "metadata": {},
   "outputs": [
    {
     "data": {
      "text/html": [
       "<div>\n",
       "<style scoped>\n",
       "    .dataframe tbody tr th:only-of-type {\n",
       "        vertical-align: middle;\n",
       "    }\n",
       "\n",
       "    .dataframe tbody tr th {\n",
       "        vertical-align: top;\n",
       "    }\n",
       "\n",
       "    .dataframe thead th {\n",
       "        text-align: right;\n",
       "    }\n",
       "</style>\n",
       "<table border=\"1\" class=\"dataframe\">\n",
       "  <thead>\n",
       "    <tr style=\"text-align: right;\">\n",
       "      <th></th>\n",
       "      <th>train</th>\n",
       "      <th>test</th>\n",
       "    </tr>\n",
       "  </thead>\n",
       "  <tbody>\n",
       "    <tr>\n",
       "      <th>(220, 220, 220)</th>\n",
       "      <td>1.0</td>\n",
       "      <td>0.984</td>\n",
       "    </tr>\n",
       "    <tr>\n",
       "      <th>(460, 460, 460)</th>\n",
       "      <td>1.0</td>\n",
       "      <td>0.984</td>\n",
       "    </tr>\n",
       "    <tr>\n",
       "      <th>(470, 470, 470)</th>\n",
       "      <td>1.0</td>\n",
       "      <td>0.984</td>\n",
       "    </tr>\n",
       "    <tr>\n",
       "      <th>(500, 500, 500)</th>\n",
       "      <td>1.0</td>\n",
       "      <td>0.984</td>\n",
       "    </tr>\n",
       "  </tbody>\n",
       "</table>\n",
       "</div>"
      ],
      "text/plain": [
       "                 train   test\n",
       "(220, 220, 220)    1.0  0.984\n",
       "(460, 460, 460)    1.0  0.984\n",
       "(470, 470, 470)    1.0  0.984\n",
       "(500, 500, 500)    1.0  0.984"
      ]
     },
     "execution_count": 219,
     "metadata": {},
     "output_type": "execute_result"
    }
   ],
   "source": [
    "ft_three.loc[ft_three.test == .984]"
   ]
  },
  {
   "cell_type": "markdown",
   "id": "75d45b61-b7f5-40bf-bd9a-8bb9d1f22187",
   "metadata": {},
   "source": [
    "There's no one single three-hidden-layer net which stands out. This is even clearer by looking at the bar plot:"
   ]
  },
  {
   "cell_type": "code",
   "execution_count": 275,
   "id": "2c44c695-f286-4cbe-9a61-e0c12799996a",
   "metadata": {},
   "outputs": [
    {
     "data": {
      "image/png": "[encoded data removed]",
      "text/plain": [
       "<Figure size 2160x432 with 1 Axes>"
      ]
     },
     "metadata": {
      "needs_background": "light"
     },
     "output_type": "display_data"
    }
   ],
   "source": [
    "plot_results(ft_three, 'hidden layer sizes', 'mean accuracy [0,1]', \n",
    "             'Cross-validation on three hidden layers NN:\\nfine-tuning',\n",
    "             figsize=(30, 6))"
   ]
  },
  {
   "cell_type": "markdown",
   "id": "4dd26aa7-ae13-4828-848b-62b7fc177a93",
   "metadata": {},
   "source": [
    "The same conclusion of the two-hidden-layers case applies here: the increase in complexity is not justified, given that the accuracy remain around 98%."
   ]
  },
  {
   "cell_type": "markdown",
   "id": "122dfce3-41c7-4817-97b8-a0df909e6475",
   "metadata": {},
   "source": [
    "## Conclusions"
   ]
  },
  {
   "cell_type": "markdown",
   "id": "2c15043d-b172-4a5c-a8bb-252bb418635a",
   "metadata": {},
   "source": [
    "In this project we have tried three different algorithms in order to build a handwritten-digits classifier.<br/>\n",
    "The accuracies obtained on the **test set** are:\n",
    "\n",
    "- **logistic regression**: 94.8%\n",
    "- **K-nearest neighbors**: 97.8%\n",
    "- **One-hidden-layer perceptron (260 neurons)**: 97.8%\n",
    "- **Two and three-hidden-layer perceptron**: around 98%"
   ]
  },
  {
   "cell_type": "markdown",
   "id": "0f888437-86a5-4776-9415-0f4765859b06",
   "metadata": {},
   "source": [
    "The *logistic regression* was expected to perform worse than the other models, because it is not designed to work with non-linear relationship between input and output. Still, it reaches a quite high accuracy (which potentially may be an artifact of the toy dataset we've used).\n",
    "\n",
    "*KNN* performs as well as the *multilayer perceptron*. Therefore, we could say that **the use of a multilayer perceptron is not justified with this dataset**, especially if explainability is at stake. We must however consider that KNN is computationally expensive and may not be the right choice when using very large datasets.\n",
    "\n",
    "Using a perceptron with just one hidden layer of a few hundreds neurons seems to be enough for this task, if we decide to use nn's.\n",
    "\n",
    "As **next steps** we might consider:\n",
    "- using a larger dataset with more detailed images (i.e. higher resolution) to see if logistic regression's accuracy degrades.\n",
    "- perform some kind of statistical test to see whether the accuracies of different nn's architectures really differ."
   ]
  }
 ],
 "metadata": {
  "kernelspec": {
   "display_name": "Python 3 (ipykernel)",
   "language": "python",
   "name": "python3"
  },
  "language_info": {
   "codemirror_mode": {
    "name": "ipython",
    "version": 3
   },
   "file_extension": ".py",
   "mimetype": "text/x-python",
   "name": "python",
   "nbconvert_exporter": "python",
   "pygments_lexer": "ipython3",
   "version": "3.9.13"
  }
 },
 "nbformat": 4,
 "nbformat_minor": 5
}
